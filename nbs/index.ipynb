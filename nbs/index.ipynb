{
 "cells": [
  {
   "cell_type": "code",
   "execution_count": null,
   "metadata": {},
   "outputs": [],
   "source": [
    "#| hide\n",
    "from minyt.core import *"
   ]
  },
  {
   "cell_type": "markdown",
   "metadata": {},
   "source": [
    "# minyt\n",
    "\n",
    "> Download audio from YouTube videos and use Gemini LLM for cleaner and smarter transcriptions"
   ]
  },
  {
   "cell_type": "markdown",
   "metadata": {},
   "source": [
    "[![PyPI version](https://badge.fury.io/py/minyt.svg)](https://badge.fury.io/py/minyt)\n",
    "[![License: Apache 2.0](https://img.shields.io/badge/License-Apache%202.0-blue.svg)](https://opensource.org/licenses/Apache-2.0)\n",
    "[![Python 3.9+](https://img.shields.io/badge/python-3.9+-blue.svg)](https://www.python.org/downloads/)\n",
    "\n",
    "**minyt** (WIP) is a Python package that simplifies the process of downloading YouTube audio and generating high-quality transcripts using Google's Gemini AI. It intelligently splits long audio files at natural silence points and processes chunks in parallel for optimal performance."
   ]
  },
  {
   "cell_type": "markdown",
   "metadata": {},
   "source": [
    "## Features\n",
    "\n",
    "- **YouTube Audio Download**: Extract audio from any YouTube video using `yt-dlp`\n",
    "- **Smart Audio Splitting**: Automatically detect silence and split audio at natural break points\n",
    "- **AI-Powered Transcription**: Use Google's Gemini 2.0 Flash for accurate, context-aware transcriptions\n",
    "- **Parallel Processing**: Process multiple audio chunks concurrently for faster results\n",
    "- **Customizable**: Configure chunk sizes, silence detection, and transcription prompts\n",
    "- **Clean Output**: Generate well-formatted transcripts ready for analysis"
   ]
  },
  {
   "cell_type": "markdown",
   "metadata": {},
   "source": [
    "## Quick Start"
   ]
  },
  {
   "cell_type": "markdown",
   "metadata": {},
   "source": [
    "### Installation\n",
    "\n",
    "```bash\n",
    "pip install minyt\n",
    "```"
   ]
  },
  {
   "cell_type": "markdown",
   "metadata": {},
   "source": [
    "### Prerequisites\n",
    "\n",
    "1. **FFmpeg**: Required for audio processing\n",
    "   ```bash\n",
    "   # macOS\n",
    "   brew install ffmpeg\n",
    "   \n",
    "   # Ubuntu/Debian\n",
    "   sudo apt update && sudo apt install ffmpeg\n",
    "   \n",
    "   # Windows\n",
    "   # Download from https://ffmpeg.org/download.html\n",
    "   ```\n",
    "\n",
    "2. **Google Gemini API Key**: Get your API key from [Google AI Studio](https://makersuite.google.com/app/apikey)\n",
    "   ```bash\n",
    "   export GEMINI_API_KEY=\"your-api-key-here\"\n",
    "   ```"
   ]
  },
  {
   "cell_type": "markdown",
   "metadata": {},
   "source": [
    "### Basic Usage\n",
    "\n",
    "```python\n",
    "import asyncio\n",
    "from pathlib import Path\n",
    "from minyt.core import *\n",
    "\n",
    "# Download audio from a YouTube video\n",
    "video_id = \"dQw4w9WgXcQ\"  # Replace with your video ID\n",
    "audio_file = download_audio(video_id, Path(\"_audio\"))\n",
    "\n",
    "# Detect silence and find optimal split points\n",
    "_, silence_data = detect_silence(audio_file)\n",
    "silence_ends = parse_silence_ends(silence_data)\n",
    "total_duration = get_audio_duration(audio_file)\n",
    "split_points = find_split_points(silence_ends, total_duration, chunk_len=600)\n",
    "\n",
    "# Split audio into manageable chunks\n",
    "chunks = split_audio(audio_file, split_points, dest_dir=\"_audio_chunks\")\n",
    "\n",
    "# Transcribe all chunks using Gemini AI\n",
    "async def main():\n",
    "    transcript = await transcribe_audio(\n",
    "        chunks_dir=\"_audio_chunks\",\n",
    "        dest_file=\"_transcripts/transcript.txt\",\n",
    "        prompt=\"Please transcribe this audio file verbatim, maintaining speaker clarity and context.\"\n",
    "    )\n",
    "    print(f\"Transcript saved to: _transcripts/transcript.txt\")\n",
    "\n",
    "asyncio.run(main())\n",
    "```"
   ]
  },
  {
   "cell_type": "markdown",
   "metadata": {},
   "source": [
    "## Detailed Usage"
   ]
  },
  {
   "cell_type": "markdown",
   "metadata": {},
   "source": [
    "### Step 1: Download YouTube Audio\n",
    "\n",
    "```python\n",
    "from minyt.core import download_audio\n",
    "from pathlib import Path\n",
    "\n",
    "# Download audio from a YouTube video\n",
    "video_id = \"your-video-id-here\"\n",
    "audio_file = download_audio(video_id, Path(\"downloads\"))\n",
    "print(f\"Audio downloaded to: {audio_file}\")\n",
    "```"
   ]
  },
  {
   "cell_type": "markdown",
   "metadata": {},
   "source": [
    "\n",
    "### Step 2: Process Audio with Smart Splitting\n",
    "\n",
    "```python\n",
    "from minyt.core import detect_silence, parse_silence_ends, find_split_points, split_audio\n",
    "\n",
    "# Detect silence in the audio file\n",
    "_, silence_data = detect_silence(audio_file)\n",
    "\n",
    "# Parse silence end points\n",
    "silence_ends = parse_silence_ends(silence_data)\n",
    "\n",
    "# Find optimal split points (aiming for 10-minute chunks)\n",
    "total_duration = get_audio_duration(audio_file)\n",
    "split_points = find_split_points(silence_ends, total_duration, chunk_len=600)\n",
    "\n",
    "# Split audio into chunks\n",
    "chunks = split_audio(audio_file, split_points, dest_dir=\"audio_chunks\")\n",
    "print(f\"Created {len(chunks)} audio chunks\")\n",
    "```"
   ]
  },
  {
   "cell_type": "markdown",
   "metadata": {},
   "source": [
    "\n",
    "### Step 3: Transcribe with Gemini AI\n",
    "\n",
    "```python\n",
    "import asyncio\n",
    "from minyt.core import transcribe_audio\n",
    "\n",
    "async def transcribe_video():\n",
    "    transcript = await transcribe_audio(\n",
    "        chunks_dir=\"audio_chunks\",\n",
    "        dest_file=\"transcripts/final_transcript.txt\",\n",
    "        model=\"gemini-2.0-flash-001\",  # Default model\n",
    "        max_concurrent=3,  # Process 3 chunks simultaneously\n",
    "        prompt=\"Please transcribe this audio accurately, preserving speaker names and technical terms.\"\n",
    "    )\n",
    "    return transcript\n",
    "\n",
    "# Run transcription\n",
    "transcript = asyncio.run(transcribe_video())\n",
    "print(\"Transcription completed!\")\n",
    "```"
   ]
  },
  {
   "cell_type": "markdown",
   "metadata": {},
   "source": [
    "\n",
    "## Configuration\n",
    "\n",
    "### Environment Variables\n",
    "\n",
    "```bash\n",
    "# Required\n",
    "export GEMINI_API_KEY=\"your-gemini-api-key\"\n",
    "\n",
    "# Optional: Configure logging level\n",
    "export LOG_LEVEL=\"INFO\"\n",
    "```"
   ]
  },
  {
   "cell_type": "markdown",
   "metadata": {},
   "source": [
    "### Customization Options\n",
    "\n",
    "```python\n",
    "# Custom silence detection (adjust sensitivity)\n",
    "_, silence_data = detect_silence(audio_file)  # Uses -30dB threshold, 0.5s duration\n",
    "\n",
    "# Custom chunk size (in seconds)\n",
    "split_points = find_split_points(silence_ends, total_duration, chunk_len=300)  # 5-minute chunks\n",
    "\n",
    "# Custom transcription settings\n",
    "transcript = await transcribe_audio(\n",
    "    chunks_dir=\"chunks\",\n",
    "    dest_file=\"output.txt\",\n",
    "    model=\"gemini-2.0-flash-001\",  # Different Gemini model\n",
    "    max_concurrent=5,  # More parallel processing\n",
    "    prompt=\"Custom transcription instructions here...\"\n",
    ")\n",
    "```"
   ]
  },
  {
   "cell_type": "markdown",
   "metadata": {},
   "source": [
    "## Project Structure\n",
    "```\n",
    "minyt/\n",
    "├── audio/ # Downloaded audio files\n",
    "├── audio_chunks/ # Split audio chunks\n",
    "├── transcripts/ # Generated transcripts\n",
    "├── minyt/\n",
    "│ ├── init.py\n",
    "│ └── core.py # Main functionality\n",
    "└── nbs/ # Jupyter notebooks (development)\n",
    "```"
   ]
  },
  {
   "cell_type": "markdown",
   "metadata": {},
   "source": [
    "## Development"
   ]
  },
  {
   "cell_type": "markdown",
   "metadata": {},
   "source": [
    "### Install in Development Mode\n",
    "\n",
    "```bash\n",
    "# Clone the repository\n",
    "git clone https://github.com/franckalbinet/minyt.git\n",
    "cd minyt\n",
    "\n",
    "# Install in development mode\n",
    "pip install -e .\n",
    "\n",
    "# Make changes in the nbs/ directory\n",
    "# ...\n",
    "\n",
    "# Compile changes to apply to minyt package\n",
    "nbdev_prepare\n",
    "```"
   ]
  },
  {
   "cell_type": "markdown",
   "metadata": {},
   "source": [
    "\n",
    "### Dependencies\n",
    "\n",
    "- `fastcore`: Core utilities\n",
    "- `google-genai`: Google Gemini AI client\n",
    "- `yt-dlp`: YouTube video downloader\n",
    "- `ffmpeg-python`: Audio processing\n",
    "- `tqdm`: Progress bars\n",
    "- `rich`: Enhanced console output\n"
   ]
  },
  {
   "cell_type": "markdown",
   "metadata": {},
   "source": [
    "## Contributing\n",
    "\n",
    "Contributions are welcome! Please feel free to submit a Pull Request. For major changes, please open an issue first to discuss what you would like to change."
   ]
  },
  {
   "cell_type": "markdown",
   "metadata": {},
   "source": [
    "\n",
    "## License\n",
    "\n",
    "This project is licensed under the Apache License 2.0 - see the [LICENSE](LICENSE) file for details."
   ]
  },
  {
   "cell_type": "markdown",
   "metadata": {},
   "source": [
    "\n",
    "## Acknowledgments\n",
    "\n",
    "- [yt-dlp](https://github.com/yt-dlp/yt-dlp) for YouTube video downloading\n",
    "- [Google Gemini](https://ai.google.dev/) for AI-powered transcription\n",
    "- [FFmpeg](https://ffmpeg.org/) for audio processing capabilities"
   ]
  },
  {
   "cell_type": "markdown",
   "metadata": {},
   "source": [
    "\n",
    "## Support\n",
    "\n",
    "If you encounter any issues or have questions:\n",
    "\n",
    "1. Check the [documentation](https://franckalbinet.github.io/minyt/)\n",
    "2. Open an [issue](https://github.com/franckalbinet/minyt/issues)\n",
    "3. Contact the maintainer: franckalbinet@gmail.com\n",
    "\n",
    "---"
   ]
  }
 ],
 "metadata": {
  "kernelspec": {
   "display_name": "python3",
   "language": "python",
   "name": "python3"
  }
 },
 "nbformat": 4,
 "nbformat_minor": 4
}
